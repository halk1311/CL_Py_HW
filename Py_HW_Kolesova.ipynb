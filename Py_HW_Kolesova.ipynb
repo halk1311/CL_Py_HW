{
  "nbformat": 4,
  "nbformat_minor": 0,
  "metadata": {
    "colab": {
      "name": "Py_HW_Kolesova.ipynb",
      "provenance": [],
      "authorship_tag": "ABX9TyNEs9gDexJNyia0ibPXSTp4"
    },
    "kernelspec": {
      "name": "python3",
      "display_name": "Python 3"
    },
    "language_info": {
      "name": "python"
    }
  },
  "cells": [
    {
      "cell_type": "markdown",
      "metadata": {
        "id": "cVPVFaQx_mlO"
      },
      "source": [
        "**Задание 1: (условия if-elif-else)**"
      ]
    },
    {
      "cell_type": "code",
      "metadata": {
        "colab": {
          "base_uri": "https://localhost:8080/"
        },
        "id": "lwQP4Kkp_fnI",
        "outputId": "aaa9a52f-992b-482b-888f-f25cf03bcc3e"
      },
      "source": [
        "# определитель усталости\n",
        "\n",
        "a = float(input('По шкале от 0 до 10, напишите, насколько Вы устали: '))\n",
        "if a < 0.7:\n",
        "    print('Кажется, Вы совсем не устали')\n",
        "elif 0.7 <= a <= 4.8:\n",
        "    print('Вы немного устали')\n",
        "# Ваш код дальше:\n",
        "elif 4.9 <= a <= 6.9:\n",
        "    print('Вы уже достаточно устали. Кажется, Вы усердно работали и пора отдохнуть')\n",
        "elif 7 <= a <= 9.9:\n",
        "    print('Сильная усталость. Мы приближаемся к критическим показателям!')\n",
        "elif a == 10:\n",
        "    b = input('Крайняя усталость! Вы совсем плохо себя чувствуете? Да/Нет ')\n",
        "    if b in ['Да', 'да', 'lf', 'Lf']:\n",
        "      print('Сочувствую :( Попросите близких поухаживать за вами, дайте себе время отдохнуть')\n",
        "    elif b in ['Нет', 'нет', 'ytn', 'Ytn']:\n",
        "      print('Не откладывайте отдых, пока не стало...слишком поздно... и у вас не заболела голова')\n",
        "    else:\n",
        "      print('Вижу, действительно сильно устали. Идите отдыхать')\n",
        "else:\n",
        "    print('СЛИШКОМ МНОГО. Усталостемер не выдержал перегрузки. Вы тоже можете ее не выдержать, лучше отдохните')"
      ],
      "execution_count": 97,
      "outputs": [
        {
          "output_type": "stream",
          "name": "stdout",
          "text": [
            "По шкале от 0 до 10, напишите, насколько Вы устали: 10\n",
            "Крайняя усталость! Вы совсем плохо себя чувствуете? Да/Нет lf\n",
            "Сочувствую :( Попросите близких поухаживать за вами, дайте себе время отдохнуть\n"
          ]
        }
      ]
    },
    {
      "cell_type": "markdown",
      "metadata": {
        "id": "BicvlPrEJN1t"
      },
      "source": [
        "\n",
        "**Задача 2 (списки и циклы)**"
      ]
    },
    {
      "cell_type": "code",
      "metadata": {
        "colab": {
          "base_uri": "https://localhost:8080/"
        },
        "id": "oQYBizJyJTeS",
        "outputId": "7f7fde35-efa6-434a-c85e-17cb73e62da3"
      },
      "source": [
        "import random\n",
        "\n",
        "cocktails = [\n",
        "    [\"мартини\",\"грейпфрутовый сок\",\"жасмин\",\"тоник\",\"лосось\"],\n",
        "    [\"клубника\",\"какао\",\"мята\",\"марсала\"],\n",
        "    [\"водка\",\"томатный сок\",\"лимонный сок\",\"вустерширский соус\",\"черный перец\",\"сельдерей\",\"лосось\"],\n",
        "    [\"джин\",\"вермут\",\"ликер мараскино\",\"апельсины\",\"коктейльная вишня\",\"лосось\"],\n",
        "    [\"ром\",\"авокадо\",\"сахарный сироп\",\"сливки\",\"лимонный сок\",\"лед\"],\n",
        "    [\"красный вермут\",\"тоник\",\"апельсины\",\"лосось\"],\n",
        "    [\"только чай\"]\n",
        "        ]\n",
        "\n",
        "# Ваш код\n",
        "\n",
        "# Первый вариант решения без цикла\n",
        "\n",
        "#chosen = random.choice(cocktails)\n",
        "#if 'лосось' in chosen:\n",
        "#  chosen.remove('лосось')\n",
        "#print('Сегодня в вашем коктейле будет:', ', '.join(chosen))\n",
        "\n",
        "# Второй вариант решения с циклом\n",
        "for x in cocktails:\n",
        "  if 'лосось' in x:\n",
        "    x.remove('лосось')\n",
        "print('Сегодня в вашем коктейле будет:', ', '.join(random.choice(cocktails)))\n"
      ],
      "execution_count": 93,
      "outputs": [
        {
          "output_type": "stream",
          "name": "stdout",
          "text": [
            "Сегодня в вашем коктейле будет: мартини, грейпфрутовый сок, жасмин, тоник\n"
          ]
        }
      ]
    },
    {
      "cell_type": "markdown",
      "metadata": {
        "id": "HsJ-oSOrUr6g"
      },
      "source": [
        "**Задание 3 (словари)**"
      ]
    },
    {
      "cell_type": "code",
      "metadata": {
        "colab": {
          "base_uri": "https://localhost:8080/"
        },
        "id": "xKJyfRiwUvmZ",
        "outputId": "94e913a2-e3cf-4530-8f67-8f783165c011"
      },
      "source": [
        "postcards = {\n",
        "    \"Maria\":\"London\",\n",
        "    \"Lorenzo\":\"Milan\",\n",
        "    \"Oleg\":\"Canberra\",\n",
        "    \"Hans\":\"Calgary\",\n",
        "    \"Mark\":\"Milan\",\n",
        "    \"Alex\":\"Krakow\",\n",
        "    \"Julia\":\"Murmansk\"\n",
        "}\n",
        "postcards.update({'Petra': 'Paris', 'Ivan': 'Moscow'}) #добавляем Петру и Ивана\n",
        "postcards['Oleg'] = 'Sydney'\n",
        "\n",
        "cities = set(postcards.values())\n",
        "# print(cities)\n",
        "cities_quantity = str(len(cities))\n",
        "print('Alice has postcards from ' + cities_quantity + ' cities\\n' + 'The cities are: ' + ', '.join(cities))"
      ],
      "execution_count": 92,
      "outputs": [
        {
          "output_type": "stream",
          "name": "stdout",
          "text": [
            "Alice has postcards from 8 cities\n",
            "The cities are: Krakow, Milan, Murmansk, Calgary, Paris, Sydney, Moscow, London\n"
          ]
        }
      ]
    }
  ]
}